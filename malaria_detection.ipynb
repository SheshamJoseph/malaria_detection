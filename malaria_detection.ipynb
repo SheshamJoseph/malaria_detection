{
 "cells": [
  {
   "cell_type": "markdown",
   "id": "63f8a7c7",
   "metadata": {},
   "source": [
    "# Malaria Detection"
   ]
  }
 ],
 "metadata": {
  "language_info": {
   "name": "python"
  }
 },
 "nbformat": 4,
 "nbformat_minor": 5
}
