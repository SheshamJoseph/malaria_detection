{
  "cells": [
    {
      "cell_type": "markdown",
      "metadata": {
        "id": "view-in-github",
        "colab_type": "text"
      },
      "source": [
        "<a href=\"https://colab.research.google.com/github/SheshamJoseph/malaria_detection/blob/main/malaria_detection.ipynb\" target=\"_parent\"><img src=\"https://colab.research.google.com/assets/colab-badge.svg\" alt=\"Open In Colab\"/></a>"
      ]
    },
    {
      "cell_type": "markdown",
      "id": "63f8a7c7",
      "metadata": {
        "id": "63f8a7c7"
      },
      "source": [
        "# Malaria Detection"
      ]
    },
    {
      "cell_type": "markdown",
      "source": [
        "## Preprocess the data"
      ],
      "metadata": {
        "id": "9J-MAwcAiiBm"
      },
      "id": "9J-MAwcAiiBm"
    },
    {
      "cell_type": "markdown",
      "source": [
        "### Fetching the data"
      ],
      "metadata": {
        "id": "TJFJXOxeinua"
      },
      "id": "TJFJXOxeinua"
    },
    {
      "cell_type": "code",
      "source": [
        "!wget https://data.lhncbc.nlm.nih.gov/public/Malaria/cell_images.zip"
      ],
      "metadata": {
        "colab": {
          "base_uri": "https://localhost:8080/"
        },
        "id": "AbD2D-bsiv84",
        "outputId": "0ac76033-3e61-4666-f23d-84e0e9b3e54a"
      },
      "id": "AbD2D-bsiv84",
      "execution_count": null,
      "outputs": [
        {
          "output_type": "stream",
          "name": "stdout",
          "text": [
            "--2025-06-26 09:35:04--  https://data.lhncbc.nlm.nih.gov/public/Malaria/cell_images.zip\n",
            "Resolving data.lhncbc.nlm.nih.gov (data.lhncbc.nlm.nih.gov)... 108.159.227.37, 108.159.227.114, 108.159.227.36, ...\n",
            "Connecting to data.lhncbc.nlm.nih.gov (data.lhncbc.nlm.nih.gov)|108.159.227.37|:443... connected.\n",
            "HTTP request sent, awaiting response... 200 OK\n",
            "Length: 353452851 (337M) [application/zip]\n",
            "Saving to: ‘cell_images.zip’\n",
            "\n",
            "cell_images.zip     100%[===================>] 337.08M  30.3MB/s    in 6.6s    \n",
            "\n",
            "2025-06-26 09:35:11 (51.1 MB/s) - ‘cell_images.zip’ saved [353452851/353452851]\n",
            "\n"
          ]
        }
      ]
    },
    {
      "cell_type": "code",
      "source": [
        "# unzip the files\n",
        "import zipfile\n",
        "zip_ref = zipfile.ZipFile('/content/cell_images.zip')\n",
        "zip_ref.extractall()\n",
        "zip_ref.close()"
      ],
      "metadata": {
        "id": "SiDsbUUnjFqL"
      },
      "id": "SiDsbUUnjFqL",
      "execution_count": null,
      "outputs": []
    },
    {
      "cell_type": "code",
      "source": [
        "# Perform OS walk through directory and list number of files\n",
        "import os\n",
        "\n",
        "for dirpath, dirnames, filenames in os.walk('/content/cell_images'):\n",
        "  print(f'There are {len(dirnames)} directories and {len(filenames)} images in {dirpath}')"
      ],
      "metadata": {
        "colab": {
          "base_uri": "https://localhost:8080/"
        },
        "id": "ALcjH1xglYXl",
        "outputId": "82f9774d-6e19-4be1-b5d8-4dc41eed9de2"
      },
      "id": "ALcjH1xglYXl",
      "execution_count": null,
      "outputs": [
        {
          "output_type": "stream",
          "name": "stdout",
          "text": [
            "There are 2 directories and 0 images in /content/cell_images\n",
            "There are 0 directories and 13780 images in /content/cell_images/Parasitized\n",
            "There are 0 directories and 13780 images in /content/cell_images/Uninfected\n"
          ]
        }
      ]
    },
    {
      "cell_type": "markdown",
      "source": [
        "###  Visualize images"
      ],
      "metadata": {
        "id": "ku3feChemkeS"
      },
      "id": "ku3feChemkeS"
    },
    {
      "cell_type": "code",
      "source": [
        "# setting class names\n",
        "import pathlib\n",
        "import numpy as np\n",
        "\n",
        "data_dir = pathlib.Path('/content/cell_images')\n",
        "class_names = np.array(sorted([item.name for item in data_dir.glob('*')]))\n",
        "print(class_names)"
      ],
      "metadata": {
        "id": "68tnCtXinCxL",
        "outputId": "b30fcc73-de35-41fc-e3be-ae2230629d43",
        "colab": {
          "base_uri": "https://localhost:8080/"
        }
      },
      "id": "68tnCtXinCxL",
      "execution_count": null,
      "outputs": [
        {
          "output_type": "stream",
          "name": "stdout",
          "text": [
            "['Parasitized' 'Uninfected']\n"
          ]
        }
      ]
    },
    {
      "cell_type": "code",
      "source": [
        "import matplotlib.pyplot as plt\n",
        "import matplotlib.image as mpimg\n",
        "import random\n",
        "\n",
        "def view_random_image(target_dir, target_class):\n",
        "    # setup the target directory\n",
        "    target_folder = target_dir + target_class\n",
        "\n",
        "    # get random image path\n",
        "    random_image = random.sample(os.listdir(target_folder), 1)\n",
        "    # read and plot image\n",
        "    img = mpimg.imread(target_folder + '/' + random_image[0])\n",
        "    plt.imshow(img)\n",
        "    plt.title(target_class)\n",
        "    plt.axis('off')\n",
        "\n",
        "    # print image shape\n",
        "    print(f'Image shape: {img.shape}')\n",
        "\n",
        "    return img"
      ],
      "metadata": {
        "id": "lmGTWu_0nNK6"
      },
      "id": "lmGTWu_0nNK6",
      "execution_count": null,
      "outputs": []
    },
    {
      "cell_type": "code",
      "source": [
        "# view random image\n",
        "target_class = random.choice(class_names)\n",
        "img = view_random_image(target_dir='/content/cell_images/', target_class=target_class)"
      ],
      "metadata": {
        "id": "YmvDayBKpnAr",
        "outputId": "4a2dcede-7f9b-4947-f09d-283839f7b2b0",
        "colab": {
          "base_uri": "https://localhost:8080/",
          "height": 445
        }
      },
      "id": "YmvDayBKpnAr",
      "execution_count": null,
      "outputs": [
        {
          "output_type": "stream",
          "name": "stdout",
          "text": [
            "Image shape: (136, 133, 3)\n"
          ]
        },
        {
          "output_type": "display_data",
          "data": {
            "text/plain": [
              "<Figure size 640x480 with 1 Axes>"
            ],
            "image/png": "[encoded data removed]"
          },
          "metadata": {}
        }
      ]
    },
    {
      "cell_type": "code",
      "source": [
        "img"
      ],
      "metadata": {
        "id": "RZh-kLh6pwd5",
        "outputId": "de7fa5f6-bff0-4770-f4bf-b19358470412",
        "colab": {
          "base_uri": "https://localhost:8080/"
        }
      },
      "id": "RZh-kLh6pwd5",
      "execution_count": null,
      "outputs": [
        {
          "output_type": "execute_result",
          "data": {
            "text/plain": [
              "array([[[0., 0., 0.],\n",
              "        [0., 0., 0.],\n",
              "        [0., 0., 0.],\n",
              "        ...,\n",
              "        [0., 0., 0.],\n",
              "        [0., 0., 0.],\n",
              "        [0., 0., 0.]],\n",
              "\n",
              "       [[0., 0., 0.],\n",
              "        [0., 0., 0.],\n",
              "        [0., 0., 0.],\n",
              "        ...,\n",
              "        [0., 0., 0.],\n",
              "        [0., 0., 0.],\n",
              "        [0., 0., 0.]],\n",
              "\n",
              "       [[0., 0., 0.],\n",
              "        [0., 0., 0.],\n",
              "        [0., 0., 0.],\n",
              "        ...,\n",
              "        [0., 0., 0.],\n",
              "        [0., 0., 0.],\n",
              "        [0., 0., 0.]],\n",
              "\n",
              "       ...,\n",
              "\n",
              "       [[0., 0., 0.],\n",
              "        [0., 0., 0.],\n",
              "        [0., 0., 0.],\n",
              "        ...,\n",
              "        [0., 0., 0.],\n",
              "        [0., 0., 0.],\n",
              "        [0., 0., 0.]],\n",
              "\n",
              "       [[0., 0., 0.],\n",
              "        [0., 0., 0.],\n",
              "        [0., 0., 0.],\n",
              "        ...,\n",
              "        [0., 0., 0.],\n",
              "        [0., 0., 0.],\n",
              "        [0., 0., 0.]],\n",
              "\n",
              "       [[0., 0., 0.],\n",
              "        [0., 0., 0.],\n",
              "        [0., 0., 0.],\n",
              "        ...,\n",
              "        [0., 0., 0.],\n",
              "        [0., 0., 0.],\n",
              "        [0., 0., 0.]]], dtype=float32)"
            ]
          },
          "metadata": {},
          "execution_count": 22
        }
      ]
    },
    {
      "cell_type": "markdown",
      "source": [
        "### Loading and preparing dataset"
      ],
      "metadata": {
        "id": "-F6O6xGoqzQu"
      },
      "id": "-F6O6xGoqzQu"
    },
    {
      "cell_type": "code",
      "source": [
        "from tensorflow.keras.preprocessing.image import ImageDataGenerator\n",
        "from tensorflow.keras.applications.resnet50 import preprocess_input\n",
        "\n",
        "IMAGE_SIZE = (224, 224)  # Suitable for ResNet50, VGG16, etc.\n",
        "BATCH_SIZE = 32\n",
        "\n",
        "# Path to your dataset folder\n",
        "DATASET_DIR = 'cell_images/'\n",
        "\n",
        "datagen = ImageDataGenerator(\n",
        "    preprocessing_function=preprocess_input,\n",
        "    validation_split=0.2\n",
        ")\n",
        "\n",
        "# Load training data\n",
        "train_generator = datagen.flow_from_directory(\n",
        "    DATASET_DIR,\n",
        "    target_size=IMAGE_SIZE,\n",
        "    batch_size=BATCH_SIZE,\n",
        "    rescale=1./255,        # Normalize\n",
        "    rotation_range=20,\n",
        "    width_shift_range=0.1,\n",
        "    height_shift_range=0.1,\n",
        "    zoom_range=0.2,\n",
        "    horizontal_flip=True,\n",
        "    class_mode='binary',\n",
        "    subset='training',\n",
        "    shuffle=True\n",
        ")\n",
        "\n",
        "# Load validation data\n",
        "val_generator = datagen.flow_from_directory(\n",
        "    DATASET_DIR,\n",
        "    target_size=IMAGE_SIZE,\n",
        "    batch_size=BATCH_SIZE,\n",
        "    rescale=1./255,\n",
        "    validation_split=0.2\n",
        "    class_mode='binary',\n",
        "    subset='validation',\n",
        "    shuffle=False\n",
        ")\n"
      ],
      "metadata": {
        "id": "eSnf0aorvLSg",
        "outputId": "e774f5ed-3894-43db-f8d0-5e72a071bf7c",
        "colab": {
          "base_uri": "https://localhost:8080/"
        }
      },
      "id": "eSnf0aorvLSg",
      "execution_count": null,
      "outputs": [
        {
          "output_type": "stream",
          "name": "stdout",
          "text": [
            "Found 22048 images belonging to 2 classes.\n",
            "Found 5510 images belonging to 2 classes.\n"
          ]
        }
      ]
    },
    {
      "cell_type": "markdown",
      "source": [
        "## Model building"
      ],
      "metadata": {
        "id": "LpxtWc39yHxQ"
      },
      "id": "LpxtWc39yHxQ"
    },
    {
      "cell_type": "markdown",
      "source": [
        "### Creating callbacks"
      ],
      "metadata": {
        "id": "tPFmjnnhFNGK"
      },
      "id": "tPFmjnnhFNGK"
    },
    {
      "cell_type": "code",
      "source": [
        "from tensorflow.keras.callbacks import ModelCheckpoint, ReduceLROnPlateau, EarlyStopping\n",
        "\n",
        "# Early stopping\n",
        "early_stop = EarlyStopping(\n",
        "    monitor='val_loss',\n",
        "    patience=3,\n",
        "    restore_best_weights=True,\n",
        "    verbose=1\n",
        ")\n",
        "\n",
        "# Model checkpoint\n",
        "checkpoint = ModelCheckpoint(\n",
        "    'best_model.keras',\n",
        "    monitor='val_accuracy',\n",
        "    save_best_only=True,\n",
        "    mode='max',\n",
        "    verbose=1\n",
        ")\n",
        "\n",
        "# Reduce Learning Rate on Plateau\n",
        "reduce_lr = ReduceLROnPlateau(\n",
        "    monitor='val_loss',\n",
        "    factor=0.2,\n",
        "    patience=2,\n",
        "    min_lr=1e-6,\n",
        "    verbose=1\n",
        ")"
      ],
      "metadata": {
        "id": "fHjFIRTBFT5z"
      },
      "id": "fHjFIRTBFT5z",
      "execution_count": null,
      "outputs": []
    }
  ],
  "metadata": {
    "language_info": {
      "name": "python"
    },
    "colab": {
      "provenance": [],
      "include_colab_link": true
    },
    "kernelspec": {
      "name": "python3",
      "display_name": "Python 3"
    }
  },
  "nbformat": 4,
  "nbformat_minor": 5
}