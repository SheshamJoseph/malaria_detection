{
  "cells": [
    {
      "cell_type": "markdown",
      "metadata": {
        "id": "view-in-github",
        "colab_type": "text"
      },
      "source": [
        "<a href=\"https://colab.research.google.com/github/SheshamJoseph/malaria_detection/blob/main/malaria_detection.ipynb\" target=\"_parent\"><img src=\"https://colab.research.google.com/assets/colab-badge.svg\" alt=\"Open In Colab\"/></a>"
      ]
    },
    {
      "cell_type": "markdown",
      "id": "63f8a7c7",
      "metadata": {
        "id": "63f8a7c7"
      },
      "source": [
        "# Malaria Detection"
      ]
    },
    {
      "cell_type": "markdown",
      "source": [
        "## Preprocess the data"
      ],
      "metadata": {
        "id": "9J-MAwcAiiBm"
      },
      "id": "9J-MAwcAiiBm"
    },
    {
      "cell_type": "markdown",
      "source": [
        "### Fetching the data"
      ],
      "metadata": {
        "id": "TJFJXOxeinua"
      },
      "id": "TJFJXOxeinua"
    },
    {
      "cell_type": "code",
      "source": [
        "!wget https://data.lhncbc.nlm.nih.gov/public/Malaria/cell_images.zip"
      ],
      "metadata": {
        "colab": {
          "base_uri": "https://localhost:8080/"
        },
        "id": "AbD2D-bsiv84",
        "outputId": "50abdcf0-ab64-4b47-8d83-f5bde322bcb0"
      },
      "id": "AbD2D-bsiv84",
      "execution_count": 1,
      "outputs": [
        {
          "output_type": "stream",
          "name": "stdout",
          "text": [
            "--2025-08-03 13:38:36--  https://data.lhncbc.nlm.nih.gov/public/Malaria/cell_images.zip\n",
            "Resolving data.lhncbc.nlm.nih.gov (data.lhncbc.nlm.nih.gov)... 3.163.189.83, 3.163.189.81, 3.163.189.93, ...\n",
            "Connecting to data.lhncbc.nlm.nih.gov (data.lhncbc.nlm.nih.gov)|3.163.189.83|:443... connected.\n",
            "HTTP request sent, awaiting response... 200 OK\n",
            "Length: 353452851 (337M) [application/zip]\n",
            "Saving to: ‘cell_images.zip’\n",
            "\n",
            "cell_images.zip     100%[===================>] 337.08M  56.5MB/s    in 6.4s    \n",
            "\n",
            "2025-08-03 13:38:43 (52.3 MB/s) - ‘cell_images.zip’ saved [353452851/353452851]\n",
            "\n"
          ]
        }
      ]
    },
    {
      "cell_type": "code",
      "source": [
        "# unzip the files\n",
        "import zipfile\n",
        "zip_ref = zipfile.ZipFile('/content/cell_images.zip')\n",
        "zip_ref.extractall()\n",
        "zip_ref.close()"
      ],
      "metadata": {
        "id": "SiDsbUUnjFqL"
      },
      "id": "SiDsbUUnjFqL",
      "execution_count": 2,
      "outputs": []
    },
    {
      "cell_type": "code",
      "source": [
        "# Perform OS walk through directory and list number of files\n",
        "import os\n",
        "\n",
        "for dirpath, dirnames, filenames in os.walk('/content/cell_images'):\n",
        "  print(f'There are {len(dirnames)} directories and {len(filenames)} images in {dirpath}')"
      ],
      "metadata": {
        "colab": {
          "base_uri": "https://localhost:8080/"
        },
        "id": "ALcjH1xglYXl",
        "outputId": "247d285f-b154-49e8-abdb-38a7c99a4ac1"
      },
      "id": "ALcjH1xglYXl",
      "execution_count": 3,
      "outputs": [
        {
          "output_type": "stream",
          "name": "stdout",
          "text": [
            "There are 2 directories and 0 images in /content/cell_images\n",
            "There are 0 directories and 13780 images in /content/cell_images/Uninfected\n",
            "There are 0 directories and 13780 images in /content/cell_images/Parasitized\n"
          ]
        }
      ]
    },
    {
      "cell_type": "markdown",
      "source": [
        "###  Visualize images"
      ],
      "metadata": {
        "id": "ku3feChemkeS"
      },
      "id": "ku3feChemkeS"
    },
    {
      "cell_type": "code",
      "source": [
        "# setting class names\n",
        "import pathlib\n",
        "import numpy as np\n",
        "\n",
        "data_dir = pathlib.Path('/content/cell_images')\n",
        "class_names = np.array(sorted([item.name for item in data_dir.glob('*')]))\n",
        "print(class_names)"
      ],
      "metadata": {
        "id": "68tnCtXinCxL",
        "outputId": "1a983150-4427-4376-efcc-ebd8520d2076",
        "colab": {
          "base_uri": "https://localhost:8080/"
        }
      },
      "id": "68tnCtXinCxL",
      "execution_count": 4,
      "outputs": [
        {
          "output_type": "stream",
          "name": "stdout",
          "text": [
            "['Parasitized' 'Uninfected']\n"
          ]
        }
      ]
    },
    {
      "cell_type": "code",
      "source": [
        "import matplotlib.pyplot as plt\n",
        "import matplotlib.image as mpimg\n",
        "import random\n",
        "\n",
        "def view_random_image(target_dir, target_class):\n",
        "    # setup the target directory\n",
        "    target_folder = target_dir + target_class\n",
        "\n",
        "    # get random image path\n",
        "    random_image = random.sample(os.listdir(target_folder), 1)\n",
        "    # read and plot image\n",
        "    img = mpimg.imread(target_folder + '/' + random_image[0])\n",
        "    plt.imshow(img)\n",
        "    plt.title(target_class)\n",
        "    plt.axis('off')\n",
        "\n",
        "    # print image shape\n",
        "    print(f'Image shape: {img.shape}')\n",
        "\n",
        "    return img"
      ],
      "metadata": {
        "id": "lmGTWu_0nNK6"
      },
      "id": "lmGTWu_0nNK6",
      "execution_count": 5,
      "outputs": []
    },
    {
      "cell_type": "code",
      "source": [
        "# view random image\n",
        "target_class = random.choice(class_names)\n",
        "img = view_random_image(target_dir='/content/cell_images/', target_class=target_class)"
      ],
      "metadata": {
        "id": "YmvDayBKpnAr",
        "outputId": "22e5403a-1dcb-41b0-d40d-4807ca0f1f63",
        "colab": {
          "base_uri": "https://localhost:8080/",
          "height": 445
        }
      },
      "id": "YmvDayBKpnAr",
      "execution_count": 6,
      "outputs": [
        {
          "output_type": "stream",
          "name": "stdout",
          "text": [
            "Image shape: (139, 118, 3)\n"
          ]
        },
        {
          "output_type": "display_data",
          "data": {
            "text/plain": [
              "<Figure size 640x480 with 1 Axes>"
            ],
            "image/png": "[encoded data removed]"
          },
          "metadata": {}
        }
      ]
    },
    {
      "cell_type": "code",
      "source": [
        "img"
      ],
      "metadata": {
        "id": "RZh-kLh6pwd5",
        "outputId": "2fe1ce11-a764-416f-8b10-e00d8deb6530",
        "colab": {
          "base_uri": "https://localhost:8080/"
        }
      },
      "id": "RZh-kLh6pwd5",
      "execution_count": 7,
      "outputs": [
        {
          "output_type": "execute_result",
          "data": {
            "text/plain": [
              "array([[[0., 0., 0.],\n",
              "        [0., 0., 0.],\n",
              "        [0., 0., 0.],\n",
              "        ...,\n",
              "        [0., 0., 0.],\n",
              "        [0., 0., 0.],\n",
              "        [0., 0., 0.]],\n",
              "\n",
              "       [[0., 0., 0.],\n",
              "        [0., 0., 0.],\n",
              "        [0., 0., 0.],\n",
              "        ...,\n",
              "        [0., 0., 0.],\n",
              "        [0., 0., 0.],\n",
              "        [0., 0., 0.]],\n",
              "\n",
              "       [[0., 0., 0.],\n",
              "        [0., 0., 0.],\n",
              "        [0., 0., 0.],\n",
              "        ...,\n",
              "        [0., 0., 0.],\n",
              "        [0., 0., 0.],\n",
              "        [0., 0., 0.]],\n",
              "\n",
              "       ...,\n",
              "\n",
              "       [[0., 0., 0.],\n",
              "        [0., 0., 0.],\n",
              "        [0., 0., 0.],\n",
              "        ...,\n",
              "        [0., 0., 0.],\n",
              "        [0., 0., 0.],\n",
              "        [0., 0., 0.]],\n",
              "\n",
              "       [[0., 0., 0.],\n",
              "        [0., 0., 0.],\n",
              "        [0., 0., 0.],\n",
              "        ...,\n",
              "        [0., 0., 0.],\n",
              "        [0., 0., 0.],\n",
              "        [0., 0., 0.]],\n",
              "\n",
              "       [[0., 0., 0.],\n",
              "        [0., 0., 0.],\n",
              "        [0., 0., 0.],\n",
              "        ...,\n",
              "        [0., 0., 0.],\n",
              "        [0., 0., 0.],\n",
              "        [0., 0., 0.]]], dtype=float32)"
            ]
          },
          "metadata": {},
          "execution_count": 7
        }
      ]
    },
    {
      "cell_type": "markdown",
      "source": [
        "### Loading and preparing dataset"
      ],
      "metadata": {
        "id": "-F6O6xGoqzQu"
      },
      "id": "-F6O6xGoqzQu"
    },
    {
      "cell_type": "code",
      "source": [
        "from tensorflow.keras.preprocessing.image import ImageDataGenerator\n",
        "from tensorflow.keras.applications.resnet50 import preprocess_input\n",
        "\n",
        "IMAGE_SIZE = (224, 224)  # Suitable for ResNet50, VGG16, etc.\n",
        "BATCH_SIZE = 32\n",
        "\n",
        "# Path to your dataset folder\n",
        "DATASET_DIR = 'cell_images/'\n",
        "\n",
        "datagen = ImageDataGenerator(\n",
        "    rescale=1./255,\n",
        "    rotation_range=20,\n",
        "    width_shift_range=0.1,\n",
        "    height_shift_range=0.1,\n",
        "    zoom_range=0.2,\n",
        "    horizontal_flip=True,\n",
        "    validation_split=0.2\n",
        ")\n",
        "\n",
        "# Load training data\n",
        "train_generator = datagen.flow_from_directory(\n",
        "    DATASET_DIR,\n",
        "    target_size=IMAGE_SIZE,\n",
        "    batch_size=BATCH_SIZE,\n",
        "    class_mode='binary',\n",
        "    subset='training',\n",
        "    shuffle=True\n",
        ")\n",
        "\n",
        "val_generator = datagen.flow_from_directory(\n",
        "    DATASET_DIR,\n",
        "    target_size=IMAGE_SIZE,\n",
        "    batch_size=BATCH_SIZE,\n",
        "    class_mode='binary',\n",
        "    subset='validation',\n",
        "    shuffle=False\n",
        ")\n"
      ],
      "metadata": {
        "id": "eSnf0aorvLSg",
        "outputId": "21af8189-26e6-4279-cd27-11f4a76fd73b",
        "colab": {
          "base_uri": "https://localhost:8080/"
        }
      },
      "id": "eSnf0aorvLSg",
      "execution_count": 8,
      "outputs": [
        {
          "output_type": "stream",
          "name": "stdout",
          "text": [
            "Found 22048 images belonging to 2 classes.\n",
            "Found 5510 images belonging to 2 classes.\n"
          ]
        }
      ]
    },
    {
      "cell_type": "markdown",
      "source": [
        "## Model building"
      ],
      "metadata": {
        "id": "LpxtWc39yHxQ"
      },
      "id": "LpxtWc39yHxQ"
    },
    {
      "cell_type": "markdown",
      "source": [
        "### Creating callbacks"
      ],
      "metadata": {
        "id": "tPFmjnnhFNGK"
      },
      "id": "tPFmjnnhFNGK"
    },
    {
      "cell_type": "code",
      "source": [
        "from tensorflow.keras.callbacks import ModelCheckpoint, ReduceLROnPlateau, EarlyStopping\n",
        "\n",
        "# Early stopping\n",
        "early_stop = EarlyStopping(\n",
        "    monitor='val_loss',\n",
        "    patience=3,\n",
        "    restore_best_weights=True,\n",
        "    verbose=1\n",
        ")\n",
        "\n",
        "# Model checkpoint\n",
        "checkpoint = ModelCheckpoint(\n",
        "    'best_model.keras',\n",
        "    monitor='val_accuracy',\n",
        "    save_best_only=True,\n",
        "    mode='max',\n",
        "    verbose=1\n",
        ")\n",
        "\n",
        "# Reduce Learning Rate on Plateau\n",
        "reduce_lr = ReduceLROnPlateau(\n",
        "    monitor='val_loss',\n",
        "    factor=0.2,\n",
        "    patience=2,\n",
        "    min_lr=1e-6,\n",
        "    verbose=1\n",
        ")"
      ],
      "metadata": {
        "id": "fHjFIRTBFT5z"
      },
      "id": "fHjFIRTBFT5z",
      "execution_count": 9,
      "outputs": []
    },
    {
      "cell_type": "markdown",
      "source": [
        "### Squeezenet model"
      ],
      "metadata": {
        "id": "T4H6XJwuI9IB"
      },
      "id": "T4H6XJwuI9IB"
    },
    {
      "cell_type": "code",
      "source": [
        "import tensorflow as tf\n",
        "from tensorflow.keras import layers, Model\n",
        "\n",
        "def fire_module(x, squeeze_filters, expand_filters):\n",
        "    # Squeeze layer\n",
        "    squeeze = layers.Conv2D(squeeze_filters, (1, 1), activation='relu', padding='same')(x)\n",
        "\n",
        "    # Expand layers\n",
        "    expand_1x1 = layers.Conv2D(expand_filters, (1, 1), activation='relu', padding='same')(squeeze)\n",
        "    expand_3x3 = layers.Conv2D(expand_filters, (3, 3), activation='relu', padding='same')(squeeze)\n",
        "\n",
        "    # Concatenate expand layers\n",
        "    output = layers.concatenate([expand_1x1, expand_3x3], axis=-1)\n",
        "    return output\n",
        "\n",
        "def squeezenet_base(input_shape):\n",
        "    input_layer = layers.Input(shape=input_shape)\n",
        "    x = layers.Conv2D(96, (7, 7), strides=(2, 2), activation='relu', padding='same')(input_layer)\n",
        "    x = layers.MaxPooling2D(pool_size=(3, 3), strides=(2, 2))(x)\n",
        "\n",
        "    # Add fire modules\n",
        "    x = fire_module(x, 16, 64)\n",
        "    x = fire_module(x, 16, 64)\n",
        "    x = fire_module(x, 32, 128)\n",
        "    x = layers.MaxPooling2D(pool_size=(3, 3), strides=(2, 2))(x)\n",
        "    x = fire_module(x, 32, 128)\n",
        "    x = fire_module(x, 48, 192)\n",
        "    x = fire_module(x, 48, 192)\n",
        "    x = fire_module(x, 64, 256)\n",
        "    x = layers.MaxPooling2D(pool_size=(3, 3), strides=(2, 2))(x)\n",
        "    x = fire_module(x, 64, 256)\n",
        "\n",
        "    return input_layer, x"
      ],
      "metadata": {
        "id": "tkjwtJeRLXcs"
      },
      "id": "tkjwtJeRLXcs",
      "execution_count": 16,
      "outputs": []
    },
    {
      "cell_type": "code",
      "source": [
        "# build model\n",
        "\n",
        "IMAGE_SHAPE = (224, 224, 3)\n",
        "\n",
        "input_layer, x = squeezenet_base(IMAGE_SHAPE)\n",
        "x ="
      ],
      "metadata": {
        "id": "lBiTwfLUMgVu"
      },
      "id": "lBiTwfLUMgVu",
      "execution_count": null,
      "outputs": []
    }
  ],
  "metadata": {
    "language_info": {
      "name": "python"
    },
    "colab": {
      "provenance": [],
      "gpuType": "T4",
      "include_colab_link": true
    },
    "kernelspec": {
      "name": "python3",
      "display_name": "Python 3"
    },
    "accelerator": "GPU"
  },
  "nbformat": 4,
  "nbformat_minor": 5
}